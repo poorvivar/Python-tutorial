{
 "cells": [
  {
   "cell_type": "markdown",
   "metadata": {},
   "source": [
    "# Dictionary"
   ]
  },
  {
   "cell_type": "markdown",
   "metadata": {},
   "source": [
    "A dictionary is a Python container used to describe associative relationships. A dictionary is represented by the dict object type. A dictionary associates (or \"maps\") keys with values. A key is a term that can be located in a dictionary, such as the word \"cat\" in the English dictionary. A value describes some data associated with a key, such as a definition. A key can be any immutable type, such as a number, string, or tuple; a value can be any type.\n",
    "\n",
    "A dict object is created using curly braces { } to surround the key:value pairs that comprise the dictionary contents. Ex: players = {'Lionel Messi': 10, 'Cristiano Ronaldo': 7} creates a dictionary called players with two keys: 'Lionel Messi' and 'Cristiano Ronaldo', associated with the values 10 and 7 (their respective jersey numbers). An empty dictionary is created with the expression players = { }.\n",
    "\n",
    "Dictionaries are typically used in place of lists when an associative relationship exists."
   ]
  },
  {
   "cell_type": "code",
   "execution_count": 2,
   "metadata": {},
   "outputs": [
    {
     "name": "stdout",
     "output_type": "stream",
     "text": [
      "{'Lionel Messi': 10, 'Cristiano Ronaldo': 7}\n"
     ]
    }
   ],
   "source": [
    "players = {\n",
    "    'Lionel Messi': 10,\n",
    "    'Cristiano Ronaldo': 7\n",
    "}\n",
    "\n",
    "print(players)"
   ]
  },
  {
   "cell_type": "code",
   "execution_count": 4,
   "metadata": {},
   "outputs": [
    {
     "name": "stdout",
     "output_type": "stream",
     "text": [
      "The price of apples is 1.99\n",
      "\n",
      "The price of oranges is 1.49\n"
     ]
    }
   ],
   "source": [
    "prices = {'apples': 1.99, 'oranges': 1.49}\n",
    "\n",
    "print('The price of apples is', prices['apples'])\n",
    "print('\\nThe price of oranges is', prices['oranges'])"
   ]
  },
  {
   "cell_type": "code",
   "execution_count": 5,
   "metadata": {},
   "outputs": [
    {
     "name": "stdout",
     "output_type": "stream",
     "text": [
      "{'banana': 1.49}\n",
      "{'banana': 1.69}\n",
      "{}\n"
     ]
    }
   ],
   "source": [
    "prices = {}  # Create empty dictionary\n",
    "prices['banana'] = 1.49  # Add new entry\n",
    "print(prices)\n",
    "\n",
    "prices['banana'] = 1.69  # Modify entry\n",
    "print(prices)\n",
    "\n",
    "del prices['banana']  # Remove entry\n",
    "print(prices)"
   ]
  },
  {
   "cell_type": "markdown",
   "metadata": {},
   "source": [
    "## Dictionary methods."
   ]
  },
  {
   "cell_type": "code",
   "execution_count": 7,
   "metadata": {},
   "outputs": [
    {
     "name": "stdout",
     "output_type": "stream",
     "text": [
      "{'Ahmad': 1, 'Jane': 42}\n"
     ]
    }
   ],
   "source": [
    "my_dict = {'Ahmad': 1, 'Jane': 42}\n",
    "\n",
    "print(my_dict)"
   ]
  },
  {
   "cell_type": "code",
   "execution_count": 8,
   "metadata": {},
   "outputs": [
    {
     "name": "stdout",
     "output_type": "stream",
     "text": [
      "{}\n"
     ]
    }
   ],
   "source": [
    "# \tRemoves all items from the dictionary\n",
    "my_dict.clear()\n",
    "print(my_dict)"
   ]
  },
  {
   "cell_type": "code",
   "execution_count": 1,
   "metadata": {},
   "outputs": [
    {
     "name": "stdout",
     "output_type": "stream",
     "text": [
      "42\n",
      "N/A\n"
     ]
    }
   ],
   "source": [
    "#Reads the value of the key entry from the dictionary. If the key does not exist in the dictionary, then returns default.\n",
    "\n",
    "my_dict = {'Ahmad': 1, 'Jane': 42}\n",
    "print(my_dict.get('Jane', 'N/A'))\n",
    "print(my_dict.get('Chad', 'N/A'))"
   ]
  },
  {
   "cell_type": "code",
   "execution_count": 10,
   "metadata": {
    "scrolled": false
   },
   "outputs": [
    {
     "name": "stdout",
     "output_type": "stream",
     "text": [
      "{'Ahmad': 1, 'Jane': 42, 'John': 50}\n"
     ]
    }
   ],
   "source": [
    "my_dict = {'Ahmad': 1, 'Jane': 42}\n",
    "my_dict.update({'John': 50})\n",
    "print(my_dict)"
   ]
  },
  {
   "cell_type": "code",
   "execution_count": 11,
   "metadata": {},
   "outputs": [
    {
     "name": "stdout",
     "output_type": "stream",
     "text": [
      "{'Jane': 42}\n"
     ]
    }
   ],
   "source": [
    "my_dict = {'Ahmad': 1, 'Jane': 42}\n",
    "val = my_dict.pop('Ahmad')\n",
    "print(my_dict)"
   ]
  },
  {
   "cell_type": "markdown",
   "metadata": {},
   "source": [
    "## Iterating over a dictionary"
   ]
  },
  {
   "cell_type": "code",
   "execution_count": 12,
   "metadata": {},
   "outputs": [
    {
     "name": "stdout",
     "output_type": "stream",
     "text": [
      "Coke: 90\n",
      "Coke_zero: 0\n",
      "Pepsi: 94\n"
     ]
    }
   ],
   "source": [
    "# dict.items()\n",
    "num_calories = dict(Coke=90, Coke_zero=0, Pepsi=94)\n",
    "for soda, calories in num_calories.items():\n",
    "    print('%s: %d' % (soda, calories))"
   ]
  },
  {
   "cell_type": "code",
   "execution_count": 13,
   "metadata": {},
   "outputs": [
    {
     "name": "stdout",
     "output_type": "stream",
     "text": [
      "Coke\n",
      "Coke_zero\n",
      "Pepsi\n"
     ]
    }
   ],
   "source": [
    "# dict.keys()\n",
    "num_calories = dict(Coke=90, Coke_zero=0, Pepsi=94)\n",
    "for soda in num_calories.keys():\n",
    "    print(soda)"
   ]
  },
  {
   "cell_type": "code",
   "execution_count": 5,
   "metadata": {},
   "outputs": [
    {
     "name": "stdout",
     "output_type": "stream",
     "text": [
      "90\n",
      "0\n",
      "94\n"
     ]
    }
   ],
   "source": [
    "# dict.values()\n",
    "num_calories = dict(Coke=90, Coke_zero=0, Pepsi=94)\n",
    "for soda in num_calories.values():\n",
    "    print(soda)"
   ]
  },
  {
   "cell_type": "code",
   "execution_count": 6,
   "metadata": {},
   "outputs": [
    {
     "name": "stdout",
     "output_type": "stream",
     "text": [
      "{'b': 1, 'r': 2, 'o': 2, 'n': 1, 't': 1, 's': 2, 'a': 1, 'u': 2}\n"
     ]
    }
   ],
   "source": [
    "# to count the number letters in the word and display the times they have repeated\n",
    "word = 'brontosaurus'\n",
    "d = dict()\n",
    "for c in word:\n",
    "    d[c] = d.get(c,0) + 1\n",
    "print(d)"
   ]
  },
  {
   "cell_type": "code",
   "execution_count": 15,
   "metadata": {},
   "outputs": [
    {
     "name": "stdout",
     "output_type": "stream",
     "text": [
      "Closest planet is 1.1640e+08\n",
      "Second closest planet is 2.1970e+08\n"
     ]
    }
   ],
   "source": [
    "# Use list() to convert view objects into lists.\n",
    "solar_distances = dict(mars=219.7e6, venus=116.4e6, jupiter=546e6, pluto=2.95e9)\n",
    "list_of_distances = list(solar_distances.values())  # Convert view to list\n",
    "\n",
    "sorted_distance_list = sorted(list_of_distances)\n",
    "closest = sorted_distance_list[0]\n",
    "next_closest = sorted_distance_list[1]\n",
    "\n",
    "print('Closest planet is %.4e' % closest)\n",
    "print('Second closest planet is %.4e' % next_closest)"
   ]
  },
  {
   "cell_type": "markdown",
   "metadata": {},
   "source": [
    "### Nested dictionaries"
   ]
  },
  {
   "cell_type": "code",
   "execution_count": 18,
   "metadata": {},
   "outputs": [
    {
     "name": "stdout",
     "output_type": "stream",
     "text": [
      "Jose:\n",
      " Grade: A+\n",
      " ID: 22321\n"
     ]
    }
   ],
   "source": [
    "students = {}\n",
    "students ['Jose'] = {'Grade': 'A+', 'StudentID': 22321}\n",
    "\n",
    "print('Jose:')\n",
    "print(' Grade: %s' % students ['Jose']['Grade'])\n",
    "print(' ID: %d' % students['Jose']['StudentID'])"
   ]
  },
  {
   "cell_type": "code",
   "execution_count": 17,
   "metadata": {},
   "outputs": [
    {
     "name": "stdout",
     "output_type": "stream",
     "text": [
      "Enter student name: poorvi\n",
      "Enter student name: Ricky Bobby\n",
      "Homework 0: 50\n",
      "Homework 1: 52\n",
      "Homework 2: 78\n",
      "Midterm: 40\n",
      "Final: 65\n",
      "Final percentage: 57.000000%\n",
      "Enter student name: \n",
      "Enter student name: exit\n"
     ]
    }
   ],
   "source": [
    "grades = {\n",
    "    'John Ponting': {\n",
    "        'Homeworks': [79, 80, 74],\n",
    "        'Midterm': 85,\n",
    "        'Final': 92\n",
    "    },\n",
    "    'Jacques Kallis': {\n",
    "        'Homeworks': [90, 92, 65],\n",
    "        'Midterm': 87,\n",
    "        'Final': 75\n",
    "    },\n",
    "    'Ricky Bobby': {\n",
    "        'Homeworks': [50, 52, 78],\n",
    "        'Midterm': 40,\n",
    "        'Final': 65\n",
    "    },\n",
    "}\n",
    "\n",
    "\n",
    "user_input = input('Enter student name: ')\n",
    "\n",
    "while user_input != 'exit':\n",
    "    if user_input in grades:\n",
    "        # Get values from nested dict\n",
    "        homeworks = grades[user_input]['Homeworks']\n",
    "        midterm = grades[user_input]['Midterm']\n",
    "        final = grades[user_input]['Final']\n",
    "\n",
    "        # print info\n",
    "        for hw, score in enumerate(homeworks):\n",
    "            print('Homework %d: %d' % (hw, score))\n",
    "\n",
    "        print('Midterm: %s' % midterm)\n",
    "        print('Final: %s' % final)\n",
    "\n",
    "        # Compute student total score\n",
    "        total_points = sum([i for i in homeworks]) + midterm + final\n",
    "        print('Final percentage: %f%%' % (100*(total_points / 500.0)))\n",
    "\n",
    "    user_input = input('Enter student name: ')"
   ]
  },
  {
   "cell_type": "markdown",
   "metadata": {},
   "source": [
    "### Comparing conversion operations using tuples and dicts"
   ]
  },
  {
   "cell_type": "code",
   "execution_count": 20,
   "metadata": {},
   "outputs": [
    {
     "name": "stdout",
     "output_type": "stream",
     "text": [
      "Time is: 11/10/2019  07:05 18 sec\n"
     ]
    }
   ],
   "source": [
    "import time\n",
    "gmt = time.gmtime()  # Get current Greenwich Mean Time\n",
    "\n",
    "print('Time is: %02d/%02d/%04d  %02d:%02d %02d sec' % \\\n",
    "      (gmt.tm_mon, gmt.tm_mday, gmt.tm_year, gmt.tm_hour, gmt.tm_min, gmt.tm_sec))"
   ]
  },
  {
   "cell_type": "code",
   "execution_count": null,
   "metadata": {},
   "outputs": [],
   "source": []
  }
 ],
 "metadata": {
  "kernelspec": {
   "display_name": "Python 3",
   "language": "python",
   "name": "python3"
  },
  "language_info": {
   "codemirror_mode": {
    "name": "ipython",
    "version": 3
   },
   "file_extension": ".py",
   "mimetype": "text/x-python",
   "name": "python",
   "nbconvert_exporter": "python",
   "pygments_lexer": "ipython3",
   "version": "3.7.1"
  }
 },
 "nbformat": 4,
 "nbformat_minor": 2
}
