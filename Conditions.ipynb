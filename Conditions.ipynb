{
 "cells": [
  {
   "cell_type": "markdown",
   "metadata": {},
   "source": [
    "# Conditional execution"
   ]
  },
  {
   "cell_type": "markdown",
   "metadata": {},
   "source": [
    "#### A boolean expression is an expression that is either true or false.\n",
    "#### The following examples use the operator ==, which compares two operands and produces True if they are equal and False otherwise\n",
    "#### True and False are special values that belong to the class bool; they are not strings"
   ]
  },
  {
   "cell_type": "code",
   "execution_count": 3,
   "metadata": {},
   "outputs": [
    {
     "data": {
      "text/plain": [
       "bool"
      ]
     },
     "execution_count": 3,
     "metadata": {},
     "output_type": "execute_result"
    }
   ],
   "source": [
    ">>> type(True)\n",
    "\n",
    ">>> type(False)\n"
   ]
  },
  {
   "cell_type": "markdown",
   "metadata": {},
   "source": [
    "The == operator is one of the comparison operators\n",
    "      x != y               # x is not equal to y\n",
    "      x > y                # x is greater than y\n",
    "      x < y                # x is less than y\n",
    "      x >= y               # x is greater than or equal to y\n",
    "      x <= y               # x is less than or equal to y\n",
    "      x is y               # x is the same as y\n",
    "      x is not y           # x is not the same as y"
   ]
  },
  {
   "cell_type": "markdown",
   "metadata": {},
   "source": [
    "#A common error is to use a single equal sign (=) instead of a double equal sign (==). \n",
    "# Remember that = is an assignment operator and == is a comparison operator. "
   ]
  },
  {
   "cell_type": "markdown",
   "metadata": {},
   "source": [
    "#Logical operators\n",
    "# There are three logical operators: and, or, and not. \n",
    "#The semantics (meaning) of these operators is similar to their meaning in English.\n",
    "## x > 0 and x < 10"
   ]
  },
  {
   "cell_type": "code",
   "execution_count": 7,
   "metadata": {},
   "outputs": [
    {
     "name": "stdout",
     "output_type": "stream",
     "text": [
      "x is positive\n"
     ]
    }
   ],
   "source": [
    "# Conditional execution\n",
    "# In order to write useful programs, we almost always need the ability to check conditions and change the behavior of the program accordingly. Conditional statements give us this ability. \n",
    "# The simplest form is the if statement\n",
    "# The boolean expression after the if statement is called the condition. We end the if statement with a colon character (:) \n",
    "# and the line(s) after the if statement are indented.\n",
    "x=5\n",
    "if x > 0 :\n",
    "    print('x is positive')"
   ]
  },
  {
   "cell_type": "code",
   "execution_count": 8,
   "metadata": {},
   "outputs": [
    {
     "name": "stdout",
     "output_type": "stream",
     "text": [
      "x is odd\n"
     ]
    }
   ],
   "source": [
    "# Alternative execution\n",
    "# A second form of the if statement is alternative execution, \n",
    "# in which there are two possibilities \n",
    "# and the condition determines which one gets executed.\n",
    "x=5\n",
    "if x%2 == 0 :\n",
    "    print('x is even')\n",
    "else :\n",
    "    print('x is odd')"
   ]
  },
  {
   "cell_type": "code",
   "execution_count": 9,
   "metadata": {},
   "outputs": [
    {
     "name": "stdout",
     "output_type": "stream",
     "text": [
      "x is less than y\n"
     ]
    }
   ],
   "source": [
    "#Chained conditionals\n",
    "#Sometimes there are more than two possibilities and \n",
    "#we need more than two branches. \n",
    "#One way to express a computation like that is a chained conditional\n",
    "\n",
    "x=5\n",
    "y=10\n",
    "if x < y:\n",
    "    print('x is less than y')\n",
    "elif x > y:\n",
    "    print('x is greater than y')\n",
    "else:\n",
    "    print('x and y are equal')"
   ]
  },
  {
   "cell_type": "code",
   "execution_count": 10,
   "metadata": {},
   "outputs": [
    {
     "name": "stdout",
     "output_type": "stream",
     "text": [
      "x is greater than y\n"
     ]
    }
   ],
   "source": [
    "# Nested conditionals\n",
    "# One conditional can also be nested within another. \n",
    "# We could have written the three-branch example\n",
    "x=15\n",
    "y=10\n",
    "if x == y:\n",
    "    print('x and y are equal')\n",
    "else:\n",
    "    if x < y:\n",
    "        print('x is less than y')\n",
    "    else:\n",
    "        print('x is greater than y')"
   ]
  },
  {
   "cell_type": "code",
   "execution_count": 11,
   "metadata": {},
   "outputs": [
    {
     "name": "stdout",
     "output_type": "stream",
     "text": [
      "x is a positive single-digit number.\n"
     ]
    }
   ],
   "source": [
    "# Logical operators often provide a way to simplify nested conditional statements. \n",
    "# For example, we can rewrite the following code using a single conditional:\n",
    "x=6\n",
    "if 0 < x:\n",
    "    if x < 10:\n",
    "        print('x is a positive single-digit number.')"
   ]
  },
  {
   "cell_type": "code",
   "execution_count": 12,
   "metadata": {},
   "outputs": [
    {
     "name": "stdout",
     "output_type": "stream",
     "text": [
      "x is a positive single-digit number.\n"
     ]
    }
   ],
   "source": [
    "x=6\n",
    "if 0 < x and x < 10:\n",
    "    print('x is a positive single-digit number.')"
   ]
  },
  {
   "cell_type": "code",
   "execution_count": null,
   "metadata": {},
   "outputs": [],
   "source": []
  }
 ],
 "metadata": {
  "kernelspec": {
   "display_name": "Python 3",
   "language": "python",
   "name": "python3"
  },
  "language_info": {
   "codemirror_mode": {
    "name": "ipython",
    "version": 3
   },
   "file_extension": ".py",
   "mimetype": "text/x-python",
   "name": "python",
   "nbconvert_exporter": "python",
   "pygments_lexer": "ipython3",
   "version": "3.7.1"
  }
 },
 "nbformat": 4,
 "nbformat_minor": 2
}
