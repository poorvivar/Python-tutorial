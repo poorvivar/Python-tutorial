{
 "cells": [
  {
   "cell_type": "markdown",
   "metadata": {},
   "source": [
    "# Web Services and API"
   ]
  },
  {
   "cell_type": "markdown",
   "metadata": {},
   "source": [
    "API stands for Application Programming Interface. Simply put, it is code written to interact with something. \n",
    " Every time we import a Python module we are adding other people's code to our programs, and consuming their API. In addition, the built in Python string functions like startswith() and upper() are part of Pythons internal API. If we want to convert a string to upper case, we don't have to write that code ourselves, we can just use the built in string API!"
   ]
  },
  {
   "cell_type": "markdown",
   "metadata": {},
   "source": [
    "What is a Web API?\n",
    "A web API is an API that gets called over the world-wide-web. In this scenairo, the API code is not on your computer. It's on another computer on your network (almost always a web server over the Internet). When your code wants to call the Web API:\n",
    "\n",
    "It must make an request which travels over the network to the computer, a web server, hosting the API.\n",
    "The web server hosting the API runs the API code and generates a response which it sends back to your computer"
   ]
  },
  {
   "cell_type": "markdown",
   "metadata": {},
   "source": [
    "Understanding HTTP\n",
    "-The Hyptertext Transport Protocol (HTTP) is the means by which hosts on the web communicate. The communication occurs in a request/response pair.\n",
    "\n",
    "--An HTTP request is sent by the client to the web server and consists of a URL or Uniform Resource Locator and an HTTP Verb\n",
    "--An HTTP response is sent from the web server to the client and consists of a Status Code and a Response Body\n",
    "URL\n",
    "--A URL consists of the name of the web server (the host) the path to the resource, and optional query arguments. For example this URL accesses the iSchool's Spring 2019 Undergraduate class schedule:https://ischool.syr.edu/classes/spring-2019/undergraduate."
   ]
  },
  {
   "cell_type": "markdown",
   "metadata": {},
   "source": [
    "The GET verb fetches an existing resource from the web server. No data is sent other than the URL.\n",
    "The POST verb is for sending a data payload to the webserver along with the URL.\n",
    "There are other verbs like PUT, PATCH, DELETE, HEAD, TRACE and OPTIONS but we will mostly stick to GET and POST."
   ]
  },
  {
   "cell_type": "code",
   "execution_count": 7,
   "metadata": {},
   "outputs": [
    {
     "name": "stdout",
     "output_type": "stream",
     "text": [
      "{'args': {'age': '45', 'name': 'mike'}, 'headers': {'Accept-Encoding': 'identity', 'Host': 'httpbin.org', 'User-Agent': 'Python-urllib/3.7'}, 'origin': '72.230.84.224, 72.230.84.224', 'url': 'https://httpbin.org/get?name=mike&age=45'}\n"
     ]
    }
   ],
   "source": [
    "import urllib.request, urllib.error, urllib.parse\n",
    "import json\n",
    "try:\n",
    "    data = { 'name' : 'mike', 'age' : 45 }\n",
    "    request = urllib.request.Request('https://httpbin.org/get?' + urllib.parse.urlencode(data) ) # make the request URL\n",
    "    response = urllib.request.urlopen(request) # execute the request\n",
    "    raw_data = response.read()           # read the data\n",
    "    object_data = json.loads(raw_data)   # deserilaize the data into python object\n",
    "    print(object_data)\n",
    "except urllib.error.HTTPError as e:\n",
    "    print(e)"
   ]
  },
  {
   "cell_type": "code",
   "execution_count": 4,
   "metadata": {},
   "outputs": [
    {
     "name": "stdout",
     "output_type": "stream",
     "text": [
      "Name: Chuck\n",
      "Attr: yes\n"
     ]
    }
   ],
   "source": [
    "# xml\n",
    "\n",
    "import xml.etree.ElementTree as ET\n",
    "\n",
    "data = '''\n",
    "<person>\n",
    "  <name>Chuck</name>\n",
    "  <phone type=\"intl\">\n",
    "     +1 734 303 4456\n",
    "   </phone>\n",
    "   <email hide=\"yes\"/>\n",
    "</person>'''\n",
    "\n",
    "tree = ET.fromstring(data)\n",
    "print('Name:', tree.find('name').text)\n",
    "print('Attr:', tree.find('email').get('hide'))\n"
   ]
  },
  {
   "cell_type": "code",
   "execution_count": 3,
   "metadata": {},
   "outputs": [
    {
     "name": "stdout",
     "output_type": "stream",
     "text": [
      "User count: 2\n",
      "Name Chuck\n",
      "Id 001\n",
      "Attribute 2\n",
      "Name Chuck\n",
      "Id 009\n",
      "Attribute 7\n"
     ]
    }
   ],
   "source": [
    "# json\n",
    "import json\n",
    "\n",
    "data = '''\n",
    "[\n",
    "  { \"id\" : \"001\",\n",
    "    \"x\" : \"2\",\n",
    "    \"name\" : \"Chuck\"\n",
    "  } ,\n",
    "  { \"id\" : \"009\",\n",
    "    \"x\" : \"7\",\n",
    "    \"name\" : \"Chuck\"\n",
    "  }\n",
    "]'''\n",
    "\n",
    "info = json.loads(data)\n",
    "print('User count:', len(info))\n",
    "\n",
    "for item in info:\n",
    "    print('Name', item['name'])\n",
    "    print('Id', item['id'])\n",
    "    print('Attribute', item['x'])\n"
   ]
  },
  {
   "cell_type": "markdown",
   "metadata": {},
   "source": [
    "When you type a URL into your browser you’re making a request.\n",
    "The site processing your request sends a response.\n",
    "Part of the response is the status code. This indicates “what happened”\n",
    "The other part of the response is content (this is usually HTML) which is rendered by the browser.\n",
    "HTTP is  a text based protocol. It is stateless meaning each request in independent of the other.\n"
   ]
  },
  {
   "cell_type": "code",
   "execution_count": 10,
   "metadata": {},
   "outputs": [
    {
     "name": "stdout",
     "output_type": "stream",
     "text": [
      "{'args': {'age': '45', 'name': 'mike'}, 'headers': {'Accept': '*/*', 'Accept-Encoding': 'gzip, deflate', 'Host': 'httpbin.org', 'User-Agent': 'python-requests/2.21.0'}, 'origin': '72.230.84.224, 72.230.84.224', 'url': 'https://httpbin.org/get?name=mike&age=45'}\n"
     ]
    }
   ],
   "source": [
    "import requests\n",
    "data = { 'name' : 'mike', 'age' : 45 }\n",
    "response = requests.get('https://httpbin.org/get', params = data) # make and execute the request to URL in one step!\n",
    "if response.ok:\n",
    "    object_data = response.json() # read and de-serialize in one step!\n",
    "    print(object_data)\n",
    "else:\n",
    "    print(response.status_code, response.reason)\n"
   ]
  },
  {
   "cell_type": "code",
   "execution_count": 13,
   "metadata": {},
   "outputs": [
    {
     "name": "stdout",
     "output_type": "stream",
     "text": [
      "<!DOCTYPE html>\n",
      "<html>\n",
      "  <head>\n",
      "  </head>\n",
      "  <body>\n",
      "      <h1>Herman Melville - Moby-Dick</h1>\n",
      "\n",
      "      <div>\n",
      "        <p>\n",
      "          Availing himself of the mild, summer-cool weather that now reigned in these latitudes, and in preparation for the peculiarly active pursuits shortly to be anticipated, ...\n"
     ]
    }
   ],
   "source": [
    "#http reqt\n",
    "\n",
    "response = requests.get('https://httpbin.org/html')\n",
    "html = response.text\n",
    "print(html[:296], '...') # just the first 296 characters, please"
   ]
  },
  {
   "cell_type": "code",
   "execution_count": 11,
   "metadata": {},
   "outputs": [
    {
     "data": {
      "text/plain": [
       "{'probability': {'neg': 0.7638937484899654,\n",
       "  'neutral': 0.021024021628106692,\n",
       "  'pos': 0.23610625151003461},\n",
       " 'label': 'neg'}"
      ]
     },
     "execution_count": 11,
     "metadata": {},
     "output_type": "execute_result"
    }
   ],
   "source": [
    "tweet = \"I dislike the Voice. I will not be sad when that show is cancelled. Horrible!\"\n",
    "web_api_url = 'http://text-processing.com/api/sentiment/'\n",
    "payload = { 'text' : tweet }\n",
    "response = requests.post(web_api_url, data = payload)\n",
    "response.json()"
   ]
  },
  {
   "cell_type": "code",
   "execution_count": 12,
   "metadata": {},
   "outputs": [
    {
     "data": {
      "text/plain": [
       "{'kind': 'Listing',\n",
       " 'data': {'modhash': '',\n",
       "  'dist': 1,\n",
       "  'children': [{'kind': 't3',\n",
       "    'data': {'approved_at_utc': None,\n",
       "     'subreddit': 'news',\n",
       "     'selftext': '',\n",
       "     'author_fullname': 't2_bxyp73a',\n",
       "     'saved': False,\n",
       "     'mod_reason_title': None,\n",
       "     'gilded': 0,\n",
       "     'clicked': False,\n",
       "     'title': 'Woman labeled deceased is alive and cannot receive medication',\n",
       "     'link_flair_richtext': [],\n",
       "     'subreddit_name_prefixed': 'r/news',\n",
       "     'hidden': False,\n",
       "     'pwls': 6,\n",
       "     'link_flair_css_class': None,\n",
       "     'downs': 0,\n",
       "     'hide_score': False,\n",
       "     'name': 't3_dtvecv',\n",
       "     'quarantine': False,\n",
       "     'link_flair_text_color': 'dark',\n",
       "     'author_flair_background_color': None,\n",
       "     'subreddit_type': 'public',\n",
       "     'ups': 36272,\n",
       "     'total_awards_received': 0,\n",
       "     'media_embed': {},\n",
       "     'author_flair_template_id': None,\n",
       "     'is_original_content': False,\n",
       "     'user_reports': [],\n",
       "     'secure_media': None,\n",
       "     'is_reddit_media_domain': False,\n",
       "     'is_meta': False,\n",
       "     'category': None,\n",
       "     'secure_media_embed': {},\n",
       "     'link_flair_text': None,\n",
       "     'can_mod_post': False,\n",
       "     'score': 36272,\n",
       "     'approved_by': None,\n",
       "     'thumbnail': '',\n",
       "     'edited': False,\n",
       "     'author_flair_css_class': None,\n",
       "     'steward_reports': [],\n",
       "     'author_flair_richtext': [],\n",
       "     'gildings': {},\n",
       "     'content_categories': None,\n",
       "     'is_self': False,\n",
       "     'mod_note': None,\n",
       "     'created': 1573331797.0,\n",
       "     'link_flair_type': 'text',\n",
       "     'wls': 6,\n",
       "     'banned_by': None,\n",
       "     'author_flair_type': 'text',\n",
       "     'domain': 'abc13.com',\n",
       "     'allow_live_comments': True,\n",
       "     'selftext_html': None,\n",
       "     'likes': None,\n",
       "     'suggested_sort': None,\n",
       "     'banned_at_utc': None,\n",
       "     'view_count': None,\n",
       "     'archived': False,\n",
       "     'no_follow': False,\n",
       "     'is_crosspostable': False,\n",
       "     'pinned': False,\n",
       "     'over_18': False,\n",
       "     'all_awardings': [],\n",
       "     'awarders': [],\n",
       "     'media_only': False,\n",
       "     'can_gild': False,\n",
       "     'spoiler': False,\n",
       "     'locked': False,\n",
       "     'author_flair_text': None,\n",
       "     'visited': False,\n",
       "     'num_reports': None,\n",
       "     'distinguished': None,\n",
       "     'subreddit_id': 't5_2qh3l',\n",
       "     'mod_reason_by': None,\n",
       "     'removal_reason': None,\n",
       "     'link_flair_background_color': '',\n",
       "     'id': 'dtvecv',\n",
       "     'is_robot_indexable': True,\n",
       "     'report_reasons': None,\n",
       "     'author': 'welkikitty',\n",
       "     'discussion_type': None,\n",
       "     'media': None,\n",
       "     'send_replies': True,\n",
       "     'whitelist_status': 'all_ads',\n",
       "     'contest_mode': False,\n",
       "     'mod_reports': [],\n",
       "     'author_patreon_flair': False,\n",
       "     'author_flair_text_color': None,\n",
       "     'permalink': '/r/news/comments/dtvecv/woman_labeled_deceased_is_alive_and_cannot/',\n",
       "     'parent_whitelist_status': 'all_ads',\n",
       "     'stickied': False,\n",
       "     'url': 'https://abc13.com/health/woman-labeled-deceased-is-alive-and-cannot-receive-medication/5684685/',\n",
       "     'subreddit_subscribers': 19240475,\n",
       "     'created_utc': 1573302997.0,\n",
       "     'num_crossposts': 7,\n",
       "     'num_comments': 1415,\n",
       "     'is_video': False}}],\n",
       "  'after': 't3_dtvecv',\n",
       "  'before': None}}"
      ]
     },
     "execution_count": 12,
     "metadata": {},
     "output_type": "execute_result"
    }
   ],
   "source": [
    "web_api_url = 'https://www.reddit.com/r/news/top.json'\n",
    "custom_headers = {'User-Agent' : 'sample-python-application'}\n",
    "options = { 'limit' : 1 }\n",
    "response = requests.get(web_api_url, headers = custom_headers, params = options)\n",
    "response.json() "
   ]
  },
  {
   "cell_type": "code",
   "execution_count": null,
   "metadata": {},
   "outputs": [],
   "source": []
  },
  {
   "cell_type": "code",
   "execution_count": null,
   "metadata": {},
   "outputs": [],
   "source": []
  }
 ],
 "metadata": {
  "kernelspec": {
   "display_name": "Python 3",
   "language": "python",
   "name": "python3"
  },
  "language_info": {
   "codemirror_mode": {
    "name": "ipython",
    "version": 3
   },
   "file_extension": ".py",
   "mimetype": "text/x-python",
   "name": "python",
   "nbconvert_exporter": "python",
   "pygments_lexer": "ipython3",
   "version": "3.7.1"
  }
 },
 "nbformat": 4,
 "nbformat_minor": 2
}
